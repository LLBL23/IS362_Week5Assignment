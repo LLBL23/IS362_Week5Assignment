{
  "metadata": {
    "kernelspec": {
      "name": "python",
      "display_name": "Python (Pyodide)",
      "language": "python"
    },
    "language_info": {
      "codemirror_mode": {
        "name": "python",
        "version": 3
      },
      "file_extension": ".py",
      "mimetype": "text/x-python",
      "name": "python",
      "nbconvert_exporter": "python",
      "pygments_lexer": "ipython3",
      "version": "3.8"
    }
  },
  "nbformat_minor": 5,
  "nbformat": 4,
  "cells": [
    {
      "id": "f8952cc7-ea02-44f1-be80-d8f280d0747c",
      "cell_type": "markdown",
      "source": "# IS 362 - Week 5 Assignment\n\n## What Is the Northernmost Airport in the United States?\n\nTo find the answer to this question the source data was read into pandas from the airpots.CSV file and a DataFrame was created. ",
      "metadata": {}
    },
    {
      "id": "c9f90913-4a88-43d4-9bb1-823c61c98716",
      "cell_type": "code",
      "source": "# import pandas\nimport pandas as pd\n\n# load data from CSV file into a DataFrame\ndf = pd.read_csv(\"airports.csv\")\n\n# print DataFrame\ndf",
      "metadata": {
        "trusted": true
      },
      "outputs": [
        {
          "execution_count": 3,
          "output_type": "execute_result",
          "data": {
            "text/plain": "      faa                           name        lat         lon   alt  tz dst  \\\n0     04G              Lansdowne Airport  41.130472  -80.619583  1044  -5   A   \n1     06A  Moton Field Municipal Airport  32.460572  -85.680028   264  -6   A   \n2     06C            Schaumburg Regional  41.989341  -88.101243   801  -6   A   \n3     06N                Randall Airport  41.431912  -74.391561   523  -5   A   \n4     09J          Jekyll Island Airport  31.074472  -81.427778    11  -5   A   \n...   ...                            ...        ...         ...   ...  ..  ..   \n1453  ZUN                     Black Rock  35.083228 -108.791778  6454  -7   A   \n1454  ZVE         New Haven Rail Station  41.298669  -72.925992     7  -5   A   \n1455  ZWI      Wilmington Amtrak Station  39.736667  -75.551667     0  -5   A   \n1456  ZWU       Washington Union Station  38.897460  -77.006430    76  -5   A   \n1457  ZYP                   Penn Station  40.750500  -73.993500    35  -5   A   \n\n                 tzone  \n0     America/New_York  \n1      America/Chicago  \n2      America/Chicago  \n3     America/New_York  \n4     America/New_York  \n...                ...  \n1453    America/Denver  \n1454  America/New_York  \n1455  America/New_York  \n1456  America/New_York  \n1457  America/New_York  \n\n[1458 rows x 8 columns]",
            "text/html": "<div>\n<style scoped>\n    .dataframe tbody tr th:only-of-type {\n        vertical-align: middle;\n    }\n\n    .dataframe tbody tr th {\n        vertical-align: top;\n    }\n\n    .dataframe thead th {\n        text-align: right;\n    }\n</style>\n<table border=\"1\" class=\"dataframe\">\n  <thead>\n    <tr style=\"text-align: right;\">\n      <th></th>\n      <th>faa</th>\n      <th>name</th>\n      <th>lat</th>\n      <th>lon</th>\n      <th>alt</th>\n      <th>tz</th>\n      <th>dst</th>\n      <th>tzone</th>\n    </tr>\n  </thead>\n  <tbody>\n    <tr>\n      <th>0</th>\n      <td>04G</td>\n      <td>Lansdowne Airport</td>\n      <td>41.130472</td>\n      <td>-80.619583</td>\n      <td>1044</td>\n      <td>-5</td>\n      <td>A</td>\n      <td>America/New_York</td>\n    </tr>\n    <tr>\n      <th>1</th>\n      <td>06A</td>\n      <td>Moton Field Municipal Airport</td>\n      <td>32.460572</td>\n      <td>-85.680028</td>\n      <td>264</td>\n      <td>-6</td>\n      <td>A</td>\n      <td>America/Chicago</td>\n    </tr>\n    <tr>\n      <th>2</th>\n      <td>06C</td>\n      <td>Schaumburg Regional</td>\n      <td>41.989341</td>\n      <td>-88.101243</td>\n      <td>801</td>\n      <td>-6</td>\n      <td>A</td>\n      <td>America/Chicago</td>\n    </tr>\n    <tr>\n      <th>3</th>\n      <td>06N</td>\n      <td>Randall Airport</td>\n      <td>41.431912</td>\n      <td>-74.391561</td>\n      <td>523</td>\n      <td>-5</td>\n      <td>A</td>\n      <td>America/New_York</td>\n    </tr>\n    <tr>\n      <th>4</th>\n      <td>09J</td>\n      <td>Jekyll Island Airport</td>\n      <td>31.074472</td>\n      <td>-81.427778</td>\n      <td>11</td>\n      <td>-5</td>\n      <td>A</td>\n      <td>America/New_York</td>\n    </tr>\n    <tr>\n      <th>...</th>\n      <td>...</td>\n      <td>...</td>\n      <td>...</td>\n      <td>...</td>\n      <td>...</td>\n      <td>...</td>\n      <td>...</td>\n      <td>...</td>\n    </tr>\n    <tr>\n      <th>1453</th>\n      <td>ZUN</td>\n      <td>Black Rock</td>\n      <td>35.083228</td>\n      <td>-108.791778</td>\n      <td>6454</td>\n      <td>-7</td>\n      <td>A</td>\n      <td>America/Denver</td>\n    </tr>\n    <tr>\n      <th>1454</th>\n      <td>ZVE</td>\n      <td>New Haven Rail Station</td>\n      <td>41.298669</td>\n      <td>-72.925992</td>\n      <td>7</td>\n      <td>-5</td>\n      <td>A</td>\n      <td>America/New_York</td>\n    </tr>\n    <tr>\n      <th>1455</th>\n      <td>ZWI</td>\n      <td>Wilmington Amtrak Station</td>\n      <td>39.736667</td>\n      <td>-75.551667</td>\n      <td>0</td>\n      <td>-5</td>\n      <td>A</td>\n      <td>America/New_York</td>\n    </tr>\n    <tr>\n      <th>1456</th>\n      <td>ZWU</td>\n      <td>Washington Union Station</td>\n      <td>38.897460</td>\n      <td>-77.006430</td>\n      <td>76</td>\n      <td>-5</td>\n      <td>A</td>\n      <td>America/New_York</td>\n    </tr>\n    <tr>\n      <th>1457</th>\n      <td>ZYP</td>\n      <td>Penn Station</td>\n      <td>40.750500</td>\n      <td>-73.993500</td>\n      <td>35</td>\n      <td>-5</td>\n      <td>A</td>\n      <td>America/New_York</td>\n    </tr>\n  </tbody>\n</table>\n<p>1458 rows × 8 columns</p>\n</div>"
          },
          "metadata": {}
        }
      ],
      "execution_count": 3
    },
    {
      "id": "260680b6-0dc2-4d14-b500-882e795a1e1b",
      "cell_type": "markdown",
      "source": "To find the northernmost airport from the DataFrame, the lat column was sorted and the last 5 rows were selected.",
      "metadata": {}
    },
    {
      "id": "7aef888b-468a-4bde-b4a9-de96e87dd561",
      "cell_type": "code",
      "source": "# sorting the lat column (in ascending order)\nnorthernmost = df.sort_values(by='lat')\n\n# select the last 5 rows to get the top 5 northernmost airports\nnorthernmost.tail()",
      "metadata": {
        "trusted": true
      },
      "outputs": [
        {
          "execution_count": 4,
          "output_type": "execute_result",
          "data": {
            "text/plain": "     faa                                        name        lat         lon  \\\n152  ATK  Atqasuk Edward Burnell Sr Memorial Airport  70.467300 -157.436000   \n708  K03                               Wainwright As  70.613378 -159.860350   \n110  AIN                          Wainwright Airport  70.638056 -159.994722   \n230  BRW                  Wiley Post Will Rogers Mem  71.285446 -156.766003   \n417  EEN                     Dillant Hopkins Airport  72.270833   42.898333   \n\n     alt  tz dst              tzone  \n152   96  -9   A  America/Anchorage  \n708   35  -9   A  America/Anchorage  \n110   41  -9   A  America/Anchorage  \n230   44  -9   A  America/Anchorage  \n417  149  -5   A                NaN  ",
            "text/html": "<div>\n<style scoped>\n    .dataframe tbody tr th:only-of-type {\n        vertical-align: middle;\n    }\n\n    .dataframe tbody tr th {\n        vertical-align: top;\n    }\n\n    .dataframe thead th {\n        text-align: right;\n    }\n</style>\n<table border=\"1\" class=\"dataframe\">\n  <thead>\n    <tr style=\"text-align: right;\">\n      <th></th>\n      <th>faa</th>\n      <th>name</th>\n      <th>lat</th>\n      <th>lon</th>\n      <th>alt</th>\n      <th>tz</th>\n      <th>dst</th>\n      <th>tzone</th>\n    </tr>\n  </thead>\n  <tbody>\n    <tr>\n      <th>152</th>\n      <td>ATK</td>\n      <td>Atqasuk Edward Burnell Sr Memorial Airport</td>\n      <td>70.467300</td>\n      <td>-157.436000</td>\n      <td>96</td>\n      <td>-9</td>\n      <td>A</td>\n      <td>America/Anchorage</td>\n    </tr>\n    <tr>\n      <th>708</th>\n      <td>K03</td>\n      <td>Wainwright As</td>\n      <td>70.613378</td>\n      <td>-159.860350</td>\n      <td>35</td>\n      <td>-9</td>\n      <td>A</td>\n      <td>America/Anchorage</td>\n    </tr>\n    <tr>\n      <th>110</th>\n      <td>AIN</td>\n      <td>Wainwright Airport</td>\n      <td>70.638056</td>\n      <td>-159.994722</td>\n      <td>41</td>\n      <td>-9</td>\n      <td>A</td>\n      <td>America/Anchorage</td>\n    </tr>\n    <tr>\n      <th>230</th>\n      <td>BRW</td>\n      <td>Wiley Post Will Rogers Mem</td>\n      <td>71.285446</td>\n      <td>-156.766003</td>\n      <td>44</td>\n      <td>-9</td>\n      <td>A</td>\n      <td>America/Anchorage</td>\n    </tr>\n    <tr>\n      <th>417</th>\n      <td>EEN</td>\n      <td>Dillant Hopkins Airport</td>\n      <td>72.270833</td>\n      <td>42.898333</td>\n      <td>149</td>\n      <td>-5</td>\n      <td>A</td>\n      <td>NaN</td>\n    </tr>\n  </tbody>\n</table>\n</div>"
          },
          "metadata": {}
        }
      ],
      "execution_count": 4
    },
    {
      "id": "9885c427-a305-49ad-b680-a8476ac99673",
      "cell_type": "markdown",
      "source": "According to the dataset, Dillant Hopkins Airport is the northernmost airport in the United States. To confirm this I used Google Maps to verify the coordinates and found that the longitude and latitude values were swapped and the latitude for Dillant Hopkins Airport is actually 42.898333. I then went to the second highest value on the list to verify the coordinates and found the coordinates correct. So Wiley Post Will Rogers Mem is the northernmost airport in the United States. ",
      "metadata": {}
    },
    {
      "id": "0d7a7f99-7dac-421d-94c3-851debe79f4b",
      "cell_type": "code",
      "source": "# select the second to last row of northernmost\nnorthernmost.iloc[[-2]]",
      "metadata": {
        "trusted": true
      },
      "outputs": [
        {
          "execution_count": 5,
          "output_type": "execute_result",
          "data": {
            "text/plain": "     faa                        name        lat         lon  alt  tz dst  \\\n230  BRW  Wiley Post Will Rogers Mem  71.285446 -156.766003   44  -9   A   \n\n                 tzone  \n230  America/Anchorage  ",
            "text/html": "<div>\n<style scoped>\n    .dataframe tbody tr th:only-of-type {\n        vertical-align: middle;\n    }\n\n    .dataframe tbody tr th {\n        vertical-align: top;\n    }\n\n    .dataframe thead th {\n        text-align: right;\n    }\n</style>\n<table border=\"1\" class=\"dataframe\">\n  <thead>\n    <tr style=\"text-align: right;\">\n      <th></th>\n      <th>faa</th>\n      <th>name</th>\n      <th>lat</th>\n      <th>lon</th>\n      <th>alt</th>\n      <th>tz</th>\n      <th>dst</th>\n      <th>tzone</th>\n    </tr>\n  </thead>\n  <tbody>\n    <tr>\n      <th>230</th>\n      <td>BRW</td>\n      <td>Wiley Post Will Rogers Mem</td>\n      <td>71.285446</td>\n      <td>-156.766003</td>\n      <td>44</td>\n      <td>-9</td>\n      <td>A</td>\n      <td>America/Anchorage</td>\n    </tr>\n  </tbody>\n</table>\n</div>"
          },
          "metadata": {}
        }
      ],
      "execution_count": 5
    },
    {
      "id": "1771b910-24bd-4af1-9b33-f7226d8950da",
      "cell_type": "markdown",
      "source": "## 2.) What Is the Easternnmost Airport in the United States?\nTo find the easternmost airport from the DataFrame, the lon column was sorted and the last 5 rows were selected.",
      "metadata": {}
    },
    {
      "id": "711c0156-ee78-4077-b531-c908213dca7e",
      "cell_type": "code",
      "source": "# sorting the lat column (in ascending order)\neasternmost = df.sort_values(by='lon')\n\n# select the last 5 rows to get the top 5 northernmost airports\neasternmost.tail()",
      "metadata": {
        "trusted": true
      },
      "outputs": [
        {
          "execution_count": 6,
          "output_type": "execute_result",
          "data": {
            "text/plain": "      faa                           name        lat         lon   alt  tz dst  \\\n444   EPM     Eastport Municipal Airport  44.910111  -67.012694    45  -5   A   \n417   EEN        Dillant Hopkins Airport  72.270833   42.898333   149  -5   A   \n396   DVT  Deer Valley Municipal Airport  33.411700  112.457000  1478   8   A   \n942   MYF               Montgomery Field  32.475900  117.759000    17   8   A   \n1290  SYA                   Eareckson As  52.712275  174.113620    98  -9   A   \n\n                  tzone  \n444    America/New_York  \n417                 NaN  \n396      Asia/Chongqing  \n942      Asia/Chongqing  \n1290  America/Anchorage  ",
            "text/html": "<div>\n<style scoped>\n    .dataframe tbody tr th:only-of-type {\n        vertical-align: middle;\n    }\n\n    .dataframe tbody tr th {\n        vertical-align: top;\n    }\n\n    .dataframe thead th {\n        text-align: right;\n    }\n</style>\n<table border=\"1\" class=\"dataframe\">\n  <thead>\n    <tr style=\"text-align: right;\">\n      <th></th>\n      <th>faa</th>\n      <th>name</th>\n      <th>lat</th>\n      <th>lon</th>\n      <th>alt</th>\n      <th>tz</th>\n      <th>dst</th>\n      <th>tzone</th>\n    </tr>\n  </thead>\n  <tbody>\n    <tr>\n      <th>444</th>\n      <td>EPM</td>\n      <td>Eastport Municipal Airport</td>\n      <td>44.910111</td>\n      <td>-67.012694</td>\n      <td>45</td>\n      <td>-5</td>\n      <td>A</td>\n      <td>America/New_York</td>\n    </tr>\n    <tr>\n      <th>417</th>\n      <td>EEN</td>\n      <td>Dillant Hopkins Airport</td>\n      <td>72.270833</td>\n      <td>42.898333</td>\n      <td>149</td>\n      <td>-5</td>\n      <td>A</td>\n      <td>NaN</td>\n    </tr>\n    <tr>\n      <th>396</th>\n      <td>DVT</td>\n      <td>Deer Valley Municipal Airport</td>\n      <td>33.411700</td>\n      <td>112.457000</td>\n      <td>1478</td>\n      <td>8</td>\n      <td>A</td>\n      <td>Asia/Chongqing</td>\n    </tr>\n    <tr>\n      <th>942</th>\n      <td>MYF</td>\n      <td>Montgomery Field</td>\n      <td>32.475900</td>\n      <td>117.759000</td>\n      <td>17</td>\n      <td>8</td>\n      <td>A</td>\n      <td>Asia/Chongqing</td>\n    </tr>\n    <tr>\n      <th>1290</th>\n      <td>SYA</td>\n      <td>Eareckson As</td>\n      <td>52.712275</td>\n      <td>174.113620</td>\n      <td>98</td>\n      <td>-9</td>\n      <td>A</td>\n      <td>America/Anchorage</td>\n    </tr>\n  </tbody>\n</table>\n</div>"
          },
          "metadata": {}
        }
      ],
      "execution_count": 6
    },
    {
      "id": "c8b62664-dd12-4d1f-bca1-cfca2eb02ded",
      "cell_type": "markdown",
      "source": "Excluding outliers, Eastport Municipal Airport is the easternmost airport in the United States.",
      "metadata": {}
    },
    {
      "id": "36214506-aa11-4740-ae3a-5d59be5de3fe",
      "cell_type": "code",
      "source": "# select the second to last row of easternnmost\neasternmost.iloc[[-5]]",
      "metadata": {
        "trusted": true
      },
      "outputs": [
        {
          "execution_count": 7,
          "output_type": "execute_result",
          "data": {
            "text/plain": "     faa                        name        lat        lon  alt  tz dst  \\\n444  EPM  Eastport Municipal Airport  44.910111 -67.012694   45  -5   A   \n\n                tzone  \n444  America/New_York  ",
            "text/html": "<div>\n<style scoped>\n    .dataframe tbody tr th:only-of-type {\n        vertical-align: middle;\n    }\n\n    .dataframe tbody tr th {\n        vertical-align: top;\n    }\n\n    .dataframe thead th {\n        text-align: right;\n    }\n</style>\n<table border=\"1\" class=\"dataframe\">\n  <thead>\n    <tr style=\"text-align: right;\">\n      <th></th>\n      <th>faa</th>\n      <th>name</th>\n      <th>lat</th>\n      <th>lon</th>\n      <th>alt</th>\n      <th>tz</th>\n      <th>dst</th>\n      <th>tzone</th>\n    </tr>\n  </thead>\n  <tbody>\n    <tr>\n      <th>444</th>\n      <td>EPM</td>\n      <td>Eastport Municipal Airport</td>\n      <td>44.910111</td>\n      <td>-67.012694</td>\n      <td>45</td>\n      <td>-5</td>\n      <td>A</td>\n      <td>America/New_York</td>\n    </tr>\n  </tbody>\n</table>\n</div>"
          },
          "metadata": {}
        }
      ],
      "execution_count": 7
    },
    {
      "id": "84ed1647-61ad-4e1b-827b-7031c17261e9",
      "cell_type": "markdown",
      "source": "## 3.) On February 12th, 2023, which New York area airport had the windiest weather?\nTo find the answer to this question the source data was read into pandas from the weather.CSV file and a DataFrame was created. ",
      "metadata": {}
    },
    {
      "id": "d102fada-522c-49bc-89c3-22ba68dc0da1",
      "cell_type": "code",
      "source": "# load data from CSV file into a DataFrame\ndf2 = pd.read_csv(\"weather.csv\")\n\n# print DataFrame\ndf2",
      "metadata": {
        "trusted": true
      },
      "outputs": [
        {
          "execution_count": 10,
          "output_type": "execute_result",
          "data": {
            "text/plain": "      origin  year  month  day  hour   temp   dewp  humid  wind_dir  \\\n0        EWR  2013      1    1     1  39.02  26.06  59.37     270.0   \n1        EWR  2013      1    1     2  39.02  26.96  61.63     250.0   \n2        EWR  2013      1    1     3  39.02  28.04  64.43     240.0   \n3        EWR  2013      1    1     4  39.92  28.04  62.21     250.0   \n4        EWR  2013      1    1     5  39.02  28.04  64.43     260.0   \n...      ...   ...    ...  ...   ...    ...    ...    ...       ...   \n26110    LGA  2013     12   30    14  35.96  19.94  51.78     340.0   \n26111    LGA  2013     12   30    15  33.98  17.06  49.51     330.0   \n26112    LGA  2013     12   30    16  32.00  15.08  49.19     340.0   \n26113    LGA  2013     12   30    17  30.92  12.92  46.74     320.0   \n26114    LGA  2013     12   30    18  28.94  10.94  46.41     330.0   \n\n       wind_speed  wind_gust  precip  pressure  visib             time_hour  \n0        10.35702        NaN     0.0    1012.0   10.0  2013-01-01T06:00:00Z  \n1         8.05546        NaN     0.0    1012.3   10.0  2013-01-01T07:00:00Z  \n2        11.50780        NaN     0.0    1012.5   10.0  2013-01-01T08:00:00Z  \n3        12.65858        NaN     0.0    1012.2   10.0  2013-01-01T09:00:00Z  \n4        12.65858        NaN     0.0    1011.9   10.0  2013-01-01T10:00:00Z  \n...           ...        ...     ...       ...    ...                   ...  \n26110    13.80936   21.86482     0.0    1017.1   10.0  2013-12-30T19:00:00Z  \n26111    17.26170   21.86482     0.0    1018.8   10.0  2013-12-30T20:00:00Z  \n26112    14.96014   23.01560     0.0    1019.5   10.0  2013-12-30T21:00:00Z  \n26113    17.26170        NaN     0.0    1019.9   10.0  2013-12-30T22:00:00Z  \n26114    18.41248        NaN     0.0    1020.9   10.0  2013-12-30T23:00:00Z  \n\n[26115 rows x 15 columns]",
            "text/html": "<div>\n<style scoped>\n    .dataframe tbody tr th:only-of-type {\n        vertical-align: middle;\n    }\n\n    .dataframe tbody tr th {\n        vertical-align: top;\n    }\n\n    .dataframe thead th {\n        text-align: right;\n    }\n</style>\n<table border=\"1\" class=\"dataframe\">\n  <thead>\n    <tr style=\"text-align: right;\">\n      <th></th>\n      <th>origin</th>\n      <th>year</th>\n      <th>month</th>\n      <th>day</th>\n      <th>hour</th>\n      <th>temp</th>\n      <th>dewp</th>\n      <th>humid</th>\n      <th>wind_dir</th>\n      <th>wind_speed</th>\n      <th>wind_gust</th>\n      <th>precip</th>\n      <th>pressure</th>\n      <th>visib</th>\n      <th>time_hour</th>\n    </tr>\n  </thead>\n  <tbody>\n    <tr>\n      <th>0</th>\n      <td>EWR</td>\n      <td>2013</td>\n      <td>1</td>\n      <td>1</td>\n      <td>1</td>\n      <td>39.02</td>\n      <td>26.06</td>\n      <td>59.37</td>\n      <td>270.0</td>\n      <td>10.35702</td>\n      <td>NaN</td>\n      <td>0.0</td>\n      <td>1012.0</td>\n      <td>10.0</td>\n      <td>2013-01-01T06:00:00Z</td>\n    </tr>\n    <tr>\n      <th>1</th>\n      <td>EWR</td>\n      <td>2013</td>\n      <td>1</td>\n      <td>1</td>\n      <td>2</td>\n      <td>39.02</td>\n      <td>26.96</td>\n      <td>61.63</td>\n      <td>250.0</td>\n      <td>8.05546</td>\n      <td>NaN</td>\n      <td>0.0</td>\n      <td>1012.3</td>\n      <td>10.0</td>\n      <td>2013-01-01T07:00:00Z</td>\n    </tr>\n    <tr>\n      <th>2</th>\n      <td>EWR</td>\n      <td>2013</td>\n      <td>1</td>\n      <td>1</td>\n      <td>3</td>\n      <td>39.02</td>\n      <td>28.04</td>\n      <td>64.43</td>\n      <td>240.0</td>\n      <td>11.50780</td>\n      <td>NaN</td>\n      <td>0.0</td>\n      <td>1012.5</td>\n      <td>10.0</td>\n      <td>2013-01-01T08:00:00Z</td>\n    </tr>\n    <tr>\n      <th>3</th>\n      <td>EWR</td>\n      <td>2013</td>\n      <td>1</td>\n      <td>1</td>\n      <td>4</td>\n      <td>39.92</td>\n      <td>28.04</td>\n      <td>62.21</td>\n      <td>250.0</td>\n      <td>12.65858</td>\n      <td>NaN</td>\n      <td>0.0</td>\n      <td>1012.2</td>\n      <td>10.0</td>\n      <td>2013-01-01T09:00:00Z</td>\n    </tr>\n    <tr>\n      <th>4</th>\n      <td>EWR</td>\n      <td>2013</td>\n      <td>1</td>\n      <td>1</td>\n      <td>5</td>\n      <td>39.02</td>\n      <td>28.04</td>\n      <td>64.43</td>\n      <td>260.0</td>\n      <td>12.65858</td>\n      <td>NaN</td>\n      <td>0.0</td>\n      <td>1011.9</td>\n      <td>10.0</td>\n      <td>2013-01-01T10:00:00Z</td>\n    </tr>\n    <tr>\n      <th>...</th>\n      <td>...</td>\n      <td>...</td>\n      <td>...</td>\n      <td>...</td>\n      <td>...</td>\n      <td>...</td>\n      <td>...</td>\n      <td>...</td>\n      <td>...</td>\n      <td>...</td>\n      <td>...</td>\n      <td>...</td>\n      <td>...</td>\n      <td>...</td>\n      <td>...</td>\n    </tr>\n    <tr>\n      <th>26110</th>\n      <td>LGA</td>\n      <td>2013</td>\n      <td>12</td>\n      <td>30</td>\n      <td>14</td>\n      <td>35.96</td>\n      <td>19.94</td>\n      <td>51.78</td>\n      <td>340.0</td>\n      <td>13.80936</td>\n      <td>21.86482</td>\n      <td>0.0</td>\n      <td>1017.1</td>\n      <td>10.0</td>\n      <td>2013-12-30T19:00:00Z</td>\n    </tr>\n    <tr>\n      <th>26111</th>\n      <td>LGA</td>\n      <td>2013</td>\n      <td>12</td>\n      <td>30</td>\n      <td>15</td>\n      <td>33.98</td>\n      <td>17.06</td>\n      <td>49.51</td>\n      <td>330.0</td>\n      <td>17.26170</td>\n      <td>21.86482</td>\n      <td>0.0</td>\n      <td>1018.8</td>\n      <td>10.0</td>\n      <td>2013-12-30T20:00:00Z</td>\n    </tr>\n    <tr>\n      <th>26112</th>\n      <td>LGA</td>\n      <td>2013</td>\n      <td>12</td>\n      <td>30</td>\n      <td>16</td>\n      <td>32.00</td>\n      <td>15.08</td>\n      <td>49.19</td>\n      <td>340.0</td>\n      <td>14.96014</td>\n      <td>23.01560</td>\n      <td>0.0</td>\n      <td>1019.5</td>\n      <td>10.0</td>\n      <td>2013-12-30T21:00:00Z</td>\n    </tr>\n    <tr>\n      <th>26113</th>\n      <td>LGA</td>\n      <td>2013</td>\n      <td>12</td>\n      <td>30</td>\n      <td>17</td>\n      <td>30.92</td>\n      <td>12.92</td>\n      <td>46.74</td>\n      <td>320.0</td>\n      <td>17.26170</td>\n      <td>NaN</td>\n      <td>0.0</td>\n      <td>1019.9</td>\n      <td>10.0</td>\n      <td>2013-12-30T22:00:00Z</td>\n    </tr>\n    <tr>\n      <th>26114</th>\n      <td>LGA</td>\n      <td>2013</td>\n      <td>12</td>\n      <td>30</td>\n      <td>18</td>\n      <td>28.94</td>\n      <td>10.94</td>\n      <td>46.41</td>\n      <td>330.0</td>\n      <td>18.41248</td>\n      <td>NaN</td>\n      <td>0.0</td>\n      <td>1020.9</td>\n      <td>10.0</td>\n      <td>2013-12-30T23:00:00Z</td>\n    </tr>\n  </tbody>\n</table>\n<p>26115 rows × 15 columns</p>\n</div>"
          },
          "metadata": {}
        }
      ],
      "execution_count": 10
    },
    {
      "id": "5bd78d81-cb90-44d7-b6bd-7a9d2fac1a5d",
      "cell_type": "markdown",
      "source": "Then I selected rows with the date 2/12/2013.",
      "metadata": {}
    },
    {
      "id": "3e92dc40-87a5-41a0-9c1d-a9ebaffc97ca",
      "cell_type": "code",
      "source": "# select rows with date 2/12/2013\nwindiest = df2[(df2.year == 2013) & (df2.month == 2) & (df2.day == 12)]\n\n# print DataFrame\nwindiest",
      "metadata": {
        "trusted": true
      },
      "outputs": [
        {
          "execution_count": 12,
          "output_type": "execute_result",
          "data": {
            "text/plain": "      origin  year  month  day  hour   temp   dewp  humid  wind_dir  \\\n1006     EWR  2013      2   12     0  39.92  39.02  96.55     240.0   \n1007     EWR  2013      2   12     1  39.92  37.94  92.56     250.0   \n1008     EWR  2013      2   12     2  39.92  28.04  62.21     270.0   \n1009     EWR  2013      2   12     3  39.02  26.96  61.63     260.0   \n1010     EWR  2013      2   12     4  39.02  26.96  64.29     280.0   \n...      ...   ...    ...  ...   ...    ...    ...    ...       ...   \n18434    LGA  2013      2   12    19  41.00  21.92  46.23     260.0   \n18435    LGA  2013      2   12    20  39.92  23.00  50.46     290.0   \n18436    LGA  2013      2   12    21  39.02  21.92  49.93     310.0   \n18437    LGA  2013      2   12    22  39.02  23.00  52.26     310.0   \n18438    LGA  2013      2   12    23  37.94  23.00  54.51     300.0   \n\n       wind_speed  wind_gust  precip  pressure  visib             time_hour  \n1006      6.90468        NaN     0.0    1006.9   10.0  2013-02-12T05:00:00Z  \n1007      9.20624        NaN     0.0    1007.2   10.0  2013-02-12T06:00:00Z  \n1008     20.71404   25.31716     0.0    1007.8   10.0  2013-02-12T07:00:00Z  \n1009   1048.36058        NaN     0.0    1008.3   10.0  2013-02-12T08:00:00Z  \n1010     12.65858        NaN     0.0    1008.8   10.0  2013-02-12T09:00:00Z  \n...           ...        ...     ...       ...    ...                   ...  \n18434    14.96014   21.86482     0.0    1014.7   10.0  2013-02-13T00:00:00Z  \n18435    10.35702        NaN     0.0    1013.6   10.0  2013-02-13T01:00:00Z  \n18436    10.35702        NaN     0.0    1012.8   10.0  2013-02-13T02:00:00Z  \n18437    11.50780        NaN     0.0    1012.7   10.0  2013-02-13T03:00:00Z  \n18438     9.20624        NaN     0.0    1013.5   10.0  2013-02-13T04:00:00Z  \n\n[72 rows x 15 columns]",
            "text/html": "<div>\n<style scoped>\n    .dataframe tbody tr th:only-of-type {\n        vertical-align: middle;\n    }\n\n    .dataframe tbody tr th {\n        vertical-align: top;\n    }\n\n    .dataframe thead th {\n        text-align: right;\n    }\n</style>\n<table border=\"1\" class=\"dataframe\">\n  <thead>\n    <tr style=\"text-align: right;\">\n      <th></th>\n      <th>origin</th>\n      <th>year</th>\n      <th>month</th>\n      <th>day</th>\n      <th>hour</th>\n      <th>temp</th>\n      <th>dewp</th>\n      <th>humid</th>\n      <th>wind_dir</th>\n      <th>wind_speed</th>\n      <th>wind_gust</th>\n      <th>precip</th>\n      <th>pressure</th>\n      <th>visib</th>\n      <th>time_hour</th>\n    </tr>\n  </thead>\n  <tbody>\n    <tr>\n      <th>1006</th>\n      <td>EWR</td>\n      <td>2013</td>\n      <td>2</td>\n      <td>12</td>\n      <td>0</td>\n      <td>39.92</td>\n      <td>39.02</td>\n      <td>96.55</td>\n      <td>240.0</td>\n      <td>6.90468</td>\n      <td>NaN</td>\n      <td>0.0</td>\n      <td>1006.9</td>\n      <td>10.0</td>\n      <td>2013-02-12T05:00:00Z</td>\n    </tr>\n    <tr>\n      <th>1007</th>\n      <td>EWR</td>\n      <td>2013</td>\n      <td>2</td>\n      <td>12</td>\n      <td>1</td>\n      <td>39.92</td>\n      <td>37.94</td>\n      <td>92.56</td>\n      <td>250.0</td>\n      <td>9.20624</td>\n      <td>NaN</td>\n      <td>0.0</td>\n      <td>1007.2</td>\n      <td>10.0</td>\n      <td>2013-02-12T06:00:00Z</td>\n    </tr>\n    <tr>\n      <th>1008</th>\n      <td>EWR</td>\n      <td>2013</td>\n      <td>2</td>\n      <td>12</td>\n      <td>2</td>\n      <td>39.92</td>\n      <td>28.04</td>\n      <td>62.21</td>\n      <td>270.0</td>\n      <td>20.71404</td>\n      <td>25.31716</td>\n      <td>0.0</td>\n      <td>1007.8</td>\n      <td>10.0</td>\n      <td>2013-02-12T07:00:00Z</td>\n    </tr>\n    <tr>\n      <th>1009</th>\n      <td>EWR</td>\n      <td>2013</td>\n      <td>2</td>\n      <td>12</td>\n      <td>3</td>\n      <td>39.02</td>\n      <td>26.96</td>\n      <td>61.63</td>\n      <td>260.0</td>\n      <td>1048.36058</td>\n      <td>NaN</td>\n      <td>0.0</td>\n      <td>1008.3</td>\n      <td>10.0</td>\n      <td>2013-02-12T08:00:00Z</td>\n    </tr>\n    <tr>\n      <th>1010</th>\n      <td>EWR</td>\n      <td>2013</td>\n      <td>2</td>\n      <td>12</td>\n      <td>4</td>\n      <td>39.02</td>\n      <td>26.96</td>\n      <td>64.29</td>\n      <td>280.0</td>\n      <td>12.65858</td>\n      <td>NaN</td>\n      <td>0.0</td>\n      <td>1008.8</td>\n      <td>10.0</td>\n      <td>2013-02-12T09:00:00Z</td>\n    </tr>\n    <tr>\n      <th>...</th>\n      <td>...</td>\n      <td>...</td>\n      <td>...</td>\n      <td>...</td>\n      <td>...</td>\n      <td>...</td>\n      <td>...</td>\n      <td>...</td>\n      <td>...</td>\n      <td>...</td>\n      <td>...</td>\n      <td>...</td>\n      <td>...</td>\n      <td>...</td>\n      <td>...</td>\n    </tr>\n    <tr>\n      <th>18434</th>\n      <td>LGA</td>\n      <td>2013</td>\n      <td>2</td>\n      <td>12</td>\n      <td>19</td>\n      <td>41.00</td>\n      <td>21.92</td>\n      <td>46.23</td>\n      <td>260.0</td>\n      <td>14.96014</td>\n      <td>21.86482</td>\n      <td>0.0</td>\n      <td>1014.7</td>\n      <td>10.0</td>\n      <td>2013-02-13T00:00:00Z</td>\n    </tr>\n    <tr>\n      <th>18435</th>\n      <td>LGA</td>\n      <td>2013</td>\n      <td>2</td>\n      <td>12</td>\n      <td>20</td>\n      <td>39.92</td>\n      <td>23.00</td>\n      <td>50.46</td>\n      <td>290.0</td>\n      <td>10.35702</td>\n      <td>NaN</td>\n      <td>0.0</td>\n      <td>1013.6</td>\n      <td>10.0</td>\n      <td>2013-02-13T01:00:00Z</td>\n    </tr>\n    <tr>\n      <th>18436</th>\n      <td>LGA</td>\n      <td>2013</td>\n      <td>2</td>\n      <td>12</td>\n      <td>21</td>\n      <td>39.02</td>\n      <td>21.92</td>\n      <td>49.93</td>\n      <td>310.0</td>\n      <td>10.35702</td>\n      <td>NaN</td>\n      <td>0.0</td>\n      <td>1012.8</td>\n      <td>10.0</td>\n      <td>2013-02-13T02:00:00Z</td>\n    </tr>\n    <tr>\n      <th>18437</th>\n      <td>LGA</td>\n      <td>2013</td>\n      <td>2</td>\n      <td>12</td>\n      <td>22</td>\n      <td>39.02</td>\n      <td>23.00</td>\n      <td>52.26</td>\n      <td>310.0</td>\n      <td>11.50780</td>\n      <td>NaN</td>\n      <td>0.0</td>\n      <td>1012.7</td>\n      <td>10.0</td>\n      <td>2013-02-13T03:00:00Z</td>\n    </tr>\n    <tr>\n      <th>18438</th>\n      <td>LGA</td>\n      <td>2013</td>\n      <td>2</td>\n      <td>12</td>\n      <td>23</td>\n      <td>37.94</td>\n      <td>23.00</td>\n      <td>54.51</td>\n      <td>300.0</td>\n      <td>9.20624</td>\n      <td>NaN</td>\n      <td>0.0</td>\n      <td>1013.5</td>\n      <td>10.0</td>\n      <td>2013-02-13T04:00:00Z</td>\n    </tr>\n  </tbody>\n</table>\n<p>72 rows × 15 columns</p>\n</div>"
          },
          "metadata": {}
        }
      ],
      "execution_count": 12
    },
    {
      "id": "8ed20bb1-da2e-4439-b98f-4bc4dbec4890",
      "cell_type": "markdown",
      "source": "Then I ordered the windiest DataFrame by windspeed in ascending order and selected the last 5 rows. ",
      "metadata": {}
    },
    {
      "id": "42b8b4af-f8cd-43b1-8de7-83635face174",
      "cell_type": "code",
      "source": "# order in ascending order\nwindiest_sorted = windiest.sort_values(by='wind_speed')\n\n# print DataFrame\nwindiest_sorted.tail()\n",
      "metadata": {
        "trusted": true
      },
      "outputs": [
        {
          "execution_count": 16,
          "output_type": "execute_result",
          "data": {
            "text/plain": "      origin  year  month  day  hour   temp   dewp  humid  wind_dir  \\\n18429    LGA  2013      2   12    14  44.06  23.00  43.02     300.0   \n18428    LGA  2013      2   12    13  44.06  23.00  43.02     300.0   \n1018     EWR  2013      2   12    12  44.06  26.06  48.87     270.0   \n18417    LGA  2013      2   12     2  42.98  26.06  50.94     290.0   \n1009     EWR  2013      2   12     3  39.02  26.96  61.63     260.0   \n\n       wind_speed  wind_gust  precip  pressure  visib             time_hour  \n18429    20.71404   25.31716     0.0    1011.5   10.0  2013-02-12T19:00:00Z  \n18428    21.86482   25.31716     0.0    1011.7   10.0  2013-02-12T18:00:00Z  \n1018     21.86482   31.07106     0.0    1012.5   10.0  2013-02-12T17:00:00Z  \n18417    23.01560   31.07106     0.0    1007.1   10.0  2013-02-12T07:00:00Z  \n1009   1048.36058        NaN     0.0    1008.3   10.0  2013-02-12T08:00:00Z  ",
            "text/html": "<div>\n<style scoped>\n    .dataframe tbody tr th:only-of-type {\n        vertical-align: middle;\n    }\n\n    .dataframe tbody tr th {\n        vertical-align: top;\n    }\n\n    .dataframe thead th {\n        text-align: right;\n    }\n</style>\n<table border=\"1\" class=\"dataframe\">\n  <thead>\n    <tr style=\"text-align: right;\">\n      <th></th>\n      <th>origin</th>\n      <th>year</th>\n      <th>month</th>\n      <th>day</th>\n      <th>hour</th>\n      <th>temp</th>\n      <th>dewp</th>\n      <th>humid</th>\n      <th>wind_dir</th>\n      <th>wind_speed</th>\n      <th>wind_gust</th>\n      <th>precip</th>\n      <th>pressure</th>\n      <th>visib</th>\n      <th>time_hour</th>\n    </tr>\n  </thead>\n  <tbody>\n    <tr>\n      <th>18429</th>\n      <td>LGA</td>\n      <td>2013</td>\n      <td>2</td>\n      <td>12</td>\n      <td>14</td>\n      <td>44.06</td>\n      <td>23.00</td>\n      <td>43.02</td>\n      <td>300.0</td>\n      <td>20.71404</td>\n      <td>25.31716</td>\n      <td>0.0</td>\n      <td>1011.5</td>\n      <td>10.0</td>\n      <td>2013-02-12T19:00:00Z</td>\n    </tr>\n    <tr>\n      <th>18428</th>\n      <td>LGA</td>\n      <td>2013</td>\n      <td>2</td>\n      <td>12</td>\n      <td>13</td>\n      <td>44.06</td>\n      <td>23.00</td>\n      <td>43.02</td>\n      <td>300.0</td>\n      <td>21.86482</td>\n      <td>25.31716</td>\n      <td>0.0</td>\n      <td>1011.7</td>\n      <td>10.0</td>\n      <td>2013-02-12T18:00:00Z</td>\n    </tr>\n    <tr>\n      <th>1018</th>\n      <td>EWR</td>\n      <td>2013</td>\n      <td>2</td>\n      <td>12</td>\n      <td>12</td>\n      <td>44.06</td>\n      <td>26.06</td>\n      <td>48.87</td>\n      <td>270.0</td>\n      <td>21.86482</td>\n      <td>31.07106</td>\n      <td>0.0</td>\n      <td>1012.5</td>\n      <td>10.0</td>\n      <td>2013-02-12T17:00:00Z</td>\n    </tr>\n    <tr>\n      <th>18417</th>\n      <td>LGA</td>\n      <td>2013</td>\n      <td>2</td>\n      <td>12</td>\n      <td>2</td>\n      <td>42.98</td>\n      <td>26.06</td>\n      <td>50.94</td>\n      <td>290.0</td>\n      <td>23.01560</td>\n      <td>31.07106</td>\n      <td>0.0</td>\n      <td>1007.1</td>\n      <td>10.0</td>\n      <td>2013-02-12T07:00:00Z</td>\n    </tr>\n    <tr>\n      <th>1009</th>\n      <td>EWR</td>\n      <td>2013</td>\n      <td>2</td>\n      <td>12</td>\n      <td>3</td>\n      <td>39.02</td>\n      <td>26.96</td>\n      <td>61.63</td>\n      <td>260.0</td>\n      <td>1048.36058</td>\n      <td>NaN</td>\n      <td>0.0</td>\n      <td>1008.3</td>\n      <td>10.0</td>\n      <td>2013-02-12T08:00:00Z</td>\n    </tr>\n  </tbody>\n</table>\n</div>"
          },
          "metadata": {}
        }
      ],
      "execution_count": 16
    },
    {
      "id": "202a3bbc-6198-483e-b666-4fcb6f243f13",
      "cell_type": "markdown",
      "source": "Excluding the outlier, the highest windspeed at a New York airport on February 12th was observed at LGA.",
      "metadata": {}
    },
    {
      "id": "41d86e2b-5eb0-4b2b-8bbb-0c6ef011b962",
      "cell_type": "code",
      "source": "# select the second to last row of windiest_sorted\nwindiest_sorted.iloc[[-2]]",
      "metadata": {
        "trusted": true
      },
      "outputs": [
        {
          "execution_count": 18,
          "output_type": "execute_result",
          "data": {
            "text/plain": "      origin  year  month  day  hour   temp   dewp  humid  wind_dir  \\\n18417    LGA  2013      2   12     2  42.98  26.06  50.94     290.0   \n\n       wind_speed  wind_gust  precip  pressure  visib             time_hour  \n18417     23.0156   31.07106     0.0    1007.1   10.0  2013-02-12T07:00:00Z  ",
            "text/html": "<div>\n<style scoped>\n    .dataframe tbody tr th:only-of-type {\n        vertical-align: middle;\n    }\n\n    .dataframe tbody tr th {\n        vertical-align: top;\n    }\n\n    .dataframe thead th {\n        text-align: right;\n    }\n</style>\n<table border=\"1\" class=\"dataframe\">\n  <thead>\n    <tr style=\"text-align: right;\">\n      <th></th>\n      <th>origin</th>\n      <th>year</th>\n      <th>month</th>\n      <th>day</th>\n      <th>hour</th>\n      <th>temp</th>\n      <th>dewp</th>\n      <th>humid</th>\n      <th>wind_dir</th>\n      <th>wind_speed</th>\n      <th>wind_gust</th>\n      <th>precip</th>\n      <th>pressure</th>\n      <th>visib</th>\n      <th>time_hour</th>\n    </tr>\n  </thead>\n  <tbody>\n    <tr>\n      <th>18417</th>\n      <td>LGA</td>\n      <td>2013</td>\n      <td>2</td>\n      <td>12</td>\n      <td>2</td>\n      <td>42.98</td>\n      <td>26.06</td>\n      <td>50.94</td>\n      <td>290.0</td>\n      <td>23.0156</td>\n      <td>31.07106</td>\n      <td>0.0</td>\n      <td>1007.1</td>\n      <td>10.0</td>\n      <td>2013-02-12T07:00:00Z</td>\n    </tr>\n  </tbody>\n</table>\n</div>"
          },
          "metadata": {}
        }
      ],
      "execution_count": 18
    }
  ]
}